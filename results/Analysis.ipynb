{
 "cells": [
  {
   "cell_type": "code",
   "execution_count": 1,
   "metadata": {
    "collapsed": true
   },
   "outputs": [],
   "source": [
    "import numpy as np\n",
    "import pandas as pd\n",
    "# Make the graphs a bit prettier, and bigger\n",
    "pd.set_option('display.mpl_style', 'default') \n",
    "pd.set_option('display.width', 5000) \n",
    "pd.set_option('display.max_columns', 60) \n",
    "import matplotlib.pyplot as plt\n",
    "import matplotlib\n",
    "from mpl_toolkits.mplot3d import Axes3D\n",
    "matplotlib.style.use('ggplot')\n",
    "import networkx as nx\n",
    "from math import sqrt\n",
    "SPINE_COLOR = 'gray'\n",
    "%matplotlib inline\n",
    "class files():\n",
    "    pass\n",
    "\n",
    "matplotlib.rcParams['figure.edgecolor'] = 'white'\n",
    "matplotlib.rcParams['figure.dpi'] = 200  # figure dots per inch\n",
    "matplotlib.rcParams['axes.titlesize'] = 'large' # 'large'\n",
    "matplotlib.rcParams['axes.labelsize'] = 'medium' #'small' \n",
    "matplotlib.rcParams['font.family'] = 'serif'\n",
    "# Set max col width to display\n",
    "pd.options.display.max_colwidth = 100\n",
    "import json"
   ]
  },
  {
   "cell_type": "markdown",
   "metadata": {},
   "source": [
    "# Helper functions\n"
   ]
  },
  {
   "cell_type": "code",
   "execution_count": 2,
   "metadata": {
    "collapsed": false
   },
   "outputs": [],
   "source": [
    "def latexify(fig_width=None, fig_height=None, columns=1):\n",
    "    \"\"\"Set up matplotlib's RC params for LaTeX plotting.\n",
    "    Call this before plotting a figure.\n",
    "\n",
    "    Parameters\n",
    "    ----------\n",
    "    fig_width : float, optional, inches\n",
    "    fig_height : float,  optional, inches\n",
    "    columns : {1, 2}\n",
    "    \"\"\"\n",
    "\n",
    "    # code adapted from http://www.scipy.org/Cookbook/Matplotlib/LaTeX_Examples\n",
    "\n",
    "    # Width and max height in inches for IEEE journals taken from\n",
    "    # computer.org/cms/Computer.org/Journal%20templates/transactions_art_guide.pdf\n",
    "\n",
    "    assert(columns in [1,2])\n",
    "\n",
    "    if fig_width is None:\n",
    "        fig_width = 3.39 if columns==1 else 6.9 # width in inches\n",
    "\n",
    "    if fig_height is None:\n",
    "        golden_mean = (sqrt(5)-1.0)/2.0    # Aesthetic ratio\n",
    "        fig_height = fig_width*golden_mean # height in inches\n",
    "\n",
    "    MAX_HEIGHT_INCHES = 8.0\n",
    "    if fig_height > MAX_HEIGHT_INCHES:\n",
    "        print(\"WARNING: fig_height too large:\" + fig_height + \n",
    "              \"so will reduce to\" + MAX_HEIGHT_INCHES + \"inches.\")\n",
    "        fig_height = MAX_HEIGHT_INCHES\n",
    "\n",
    "    params = {'backend': 'ps',\n",
    "              'text.latex.preamble': ['\\\\usepackage{gensymb}'],\n",
    "              'axes.labelsize': 10, # fontsize for x and y labels (was 10)\n",
    "              'axes.titlesize': 10,\n",
    "              'font.size': 10,\n",
    "              'legend.fontsize': 10, # was 10\n",
    "              'xtick.labelsize': 10,\n",
    "              'ytick.labelsize': 10,\n",
    "              'text.usetex': False,\n",
    "              'figure.figsize': [fig_width,fig_height],\n",
    "              'font.family': 'serif'\n",
    "    }\n",
    "\n",
    "    matplotlib.rcParams.update(params)\n",
    "# ---------------------------------------------------------------------------\n",
    "\n",
    "def format_axes(ax):\n",
    "\n",
    "    for spine in ['top', 'right']:\n",
    "        ax.spines[spine].set_visible(False)\n",
    "\n",
    "    for spine in ['left', 'bottom']:\n",
    "        ax.spines[spine].set_color(SPINE_COLOR)\n",
    "        ax.spines[spine].set_linewidth(0.5)\n",
    "\n",
    "    ax.xaxis.set_ticks_position('bottom')\n",
    "    ax.yaxis.set_ticks_position('left')\n",
    "\n",
    "    for axis in [ax.xaxis, ax.yaxis]:\n",
    "        axis.set_tick_params(direction='out', color=SPINE_COLOR)\n",
    "\n",
    "    return ax\n",
    "\n",
    "# ~~~~~~~~~~~~~~~~~~~~~~~~~~~~~~~~~~~~~~~~~~~~~~~~~~~~~~~~~~~~~~~~~~~~~~~~~~~~~\n",
    "def plot_series(x, ys, ax, title, maxY=None, noLegend=True, noMarker=False, \n",
    "                inTitle=None, xlabel=None, ylabel=None):\n",
    "    \n",
    "    for i in ys:\n",
    "        if (noMarker):\n",
    "            ax.plot(x, y[i], label='alpha='+str(i))\n",
    "        else:\n",
    "            ax.plot(x, y[i], marker='*', label='alpha='+str(i))\n",
    "\n",
    "    if (not noLegend):\n",
    "        ax.legend(loc='upper left', bbox_to_anchor=(1, 1))\n",
    "    ax.set_xlabel(xlabel)\n",
    "    ax.set_xlim([0.18, 0.82])\n",
    "    if (maxY is not None):\n",
    "        ax.set_ylim([-5, maxY])\n",
    "    ax.set_ylabel(ylabel)\n",
    "    ax.set_title(title)\n",
    "    if (inTitle):\n",
    "        ax.text(0.8, 0.95, inTitle, transform=ax.transAxes, verticalalignment='top', ha=\"right\",\n",
    "        bbox={'facecolor':'None', 'alpha':0.5, 'pad':5})\n",
    "    ax.patch.set_alpha(0.8)\n",
    "\n",
    "# --------------------------------------------------------------------------------\n",
    "def plot_scatter(x, ys, ax, title, maxY=None, noLegend=True,\n",
    "                inTitle=None, xlabel=None, ylabel=None):\n",
    "    \n",
    "    for i in ys:\n",
    "        ax.scatter(x, y[i], marker='*', label='alpha='+str(i))\n",
    "\n",
    "    if (not noLegend):\n",
    "        ax.legend(loc='upper left', bbox_to_anchor=(1, 1))\n",
    "    ax.set_xlabel(xlabel)\n",
    "    ax.set_xlim([0.18, 0.82])\n",
    "    if (maxY is not None):\n",
    "        ax.set_ylim([-5, maxY])\n",
    "    ax.set_ylabel(ylabel)\n",
    "    ax.set_title(title)\n",
    "    if (inTitle):\n",
    "        ax.text(0.8, 0.95, inTitle, transform=ax.transAxes, verticalalignment='top', ha=\"right\",\n",
    "        bbox={'facecolor':'None', 'alpha':0.5, 'pad':5})\n",
    "    ax.patch.set_alpha(0.8)\n",
    "     \n",
    "# ~~~~~~~~~~~~~~~~~~~~~~~~~~~~~~~~~~~~~~~~~~~~~~~~~~~~~~~~~~~~~~~~~~~~~~~~~~~~~~~~\n",
    "def plot_bar(dataArray, xlabels=None, ylabel=None, legendLabels=None, title=None, \n",
    "                     figsize=None, ax=None, showLegend=True):\n",
    "    cmap = plt.rcParams['axes.color_cycle']\n",
    "    \n",
    "    N = dataArray.shape[1]\n",
    "    d = dataArray.shape[0]\n",
    "    shift = 0.2\n",
    "    ind = np.arange(N)  # the x locations for the groups\n",
    "    width = 0.25      # the width of the bars\n",
    "    \n",
    "    if ax is None:\n",
    "        ax = fig.add_subplot(111)\n",
    "        fig.subplots_adjust(bottom=0.25)\n",
    "        if (figsize):\n",
    "            fig = plt.figure(1, figsize=figsize)\n",
    "        else:\n",
    "           fig = plt.figure(1) \n",
    "\n",
    "    \n",
    "    rects = list()\n",
    "    for i, data in enumerate(dataArray):\n",
    "        rects.append(ax.bar(shift+ind+i*width, data, width, color=cmap[i], label=legendLabels[i]))\n",
    "\n",
    "    # add some text for labels, title and axes ticks\n",
    "    ax.set_ylabel(ylabel)\n",
    "    ax.set_title(title)\n",
    "    ax.set_xticks(shift+ind+width*d/2)\n",
    "    ax.set_ylim([0, 110])\n",
    "    ax.set_xticklabels(xlabels)\n",
    "    if (legendLabels and showLegend):\n",
    "        ax.legend(rects, legendLabels, loc='lower center',  ncol=2, bbox_to_anchor=(0.44, -0.3))\n",
    "#     ax.margins(0.05)\n",
    "    \n",
    "    def autolabel(rects):\n",
    "        # attach some text labels\n",
    "        for rect in rects:\n",
    "            height = rect.get_height()\n",
    "            ax.text(rect.get_x()+rect.get_width()/2., 1*height, '%.d'%height,\n",
    "                    ha='center', va='bottom')\n",
    "\n",
    "    for rect in rects:\n",
    "        autolabel(rect)\n",
    "    \n",
    "    return ax"
   ]
  },
  {
   "cell_type": "code",
   "execution_count": 3,
   "metadata": {
    "collapsed": true
   },
   "outputs": [],
   "source": [
    "# latexify(10, 5)\n",
    "latexify(columns=2)"
   ]
  },
  {
   "cell_type": "markdown",
   "metadata": {},
   "source": [
    "# Read Data"
   ]
  },
  {
   "cell_type": "code",
   "execution_count": 3,
   "metadata": {
    "collapsed": false
   },
   "outputs": [],
   "source": [
    "# Read a result file with the same model type\n",
    "def getResultDataFrame(fileName):\n",
    "    df = None\n",
    "    with open(fileName) as data_file:    \n",
    "        data = json.load(data_file)        \n",
    "   \n",
    "    if data[0]['model_params']['type'] == 'svm':\n",
    "        df = pd.DataFrame(columns=['C', 'degree', 'gamma', 'kernel', 'type', 'error'])\n",
    "        for i, result in enumerate(data):\n",
    "            df.loc[i] = [result['model_params']['params']['C'],\n",
    "                          result['model_params']['params']['degree'],\n",
    "                          result['model_params']['params']['gamma'],\n",
    "                          result['model_params']['params']['kernel'],\n",
    "                          result['model_params']['type'],\n",
    "                          result['error']\n",
    "                         ]\n",
    "    elif data[0]['model_params']['type'] == 'decisionTree':\n",
    "        df = pd.DataFrame(columns=['max_features', 'splitter', 'max_depth', 'type', 'error'])\n",
    "        for i, result in enumerate(data):\n",
    "            df.loc[i] = [result['model_params']['params']['max_features'],\n",
    "                          result['model_params']['params']['splitter'],\n",
    "                          result['model_params']['params']['max_depth'],\n",
    "                          result['model_params']['type'],\n",
    "                          result['error']\n",
    "                         ]\n",
    "    elif data[0]['model_params']['type'] == 'RandomForestClassifier':\n",
    "        df = pd.DataFrame(columns=['n_estimators', 'max_depth', 'type', 'error'])\n",
    "        for i, result in enumerate(data):\n",
    "            df.loc[i] = [result['model_params']['params']['n_estimators'],\n",
    "                          result['model_params']['params']['max_depth'],\n",
    "                          result['model_params']['type'],\n",
    "                          result['error']\n",
    "                         ]\n",
    "#     elif data[0]['model_params']['type'] == '':\n",
    "    return df"
   ]
  },
  {
   "cell_type": "code",
   "execution_count": null,
   "metadata": {
    "collapsed": false
   },
   "outputs": [],
   "source": []
  },
  {
   "cell_type": "markdown",
   "metadata": {},
   "source": [
    "# Comparison bar plot"
   ]
  },
  {
   "cell_type": "code",
   "execution_count": 93,
   "metadata": {
    "collapsed": false
   },
   "outputs": [
    {
     "ename": "TypeError",
     "evalue": "plot_bar() got an unexpected keyword argument 'showLegend'",
     "output_type": "error",
     "traceback": [
      "\u001b[1;31m---------------------------------------------------------------------------\u001b[0m",
      "\u001b[1;31mTypeError\u001b[0m                                 Traceback (most recent call last)",
      "\u001b[1;32m<ipython-input-93-4e823e2a9bfa>\u001b[0m in \u001b[0;36m<module>\u001b[1;34m()\u001b[0m\n\u001b[0;32m     76\u001b[0m \u001b[1;33m\u001b[0m\u001b[0m\n\u001b[0;32m     77\u001b[0m plot_bar(dataLists, xlabels=modelsNames, ylabel='Accuracy (%)', showLegend=False,\n\u001b[1;32m---> 78\u001b[1;33m          legendLabels=['validation', 'testing'], title=\"5 gesture\", ax=ax)\n\u001b[0m\u001b[0;32m     79\u001b[0m \u001b[1;33m\u001b[0m\u001b[0m\n\u001b[0;32m     80\u001b[0m \u001b[1;33m\u001b[0m\u001b[0m\n",
      "\u001b[1;31mTypeError\u001b[0m: plot_bar() got an unexpected keyword argument 'showLegend'"
     ]
    },
    {
     "data": {
      "image/png": "[encoded data removed]",
      "text/plain": [
       "<matplotlib.figure.Figure at 0x7fbe29554510>"
      ]
     },
     "metadata": {},
     "output_type": "display_data"
    }
   ],
   "source": [
    "from collections import OrderedDict\n",
    "\n",
    "# def byteify(inputt):\n",
    "#     if isinstance(inputt, dict):\n",
    "#         return {byteify(key):byteify(value) for key,value in inputt.items()}\n",
    "#     elif isinstance(inputt, list):\n",
    "#         return [byteify(element) for element in inputt]\n",
    "#     elif isinstance(inputt, unicode):\n",
    "#         return inputt.encode('utf-8')\n",
    "#     else:\n",
    "#         return inputt\n",
    "\n",
    "with open('trials/run_hyperopt_all_10.json') as data_file:\n",
    "    trials = json.load(data_file)\n",
    "\n",
    "# trials = byteify(trials)\n",
    "\n",
    "bestResults = OrderedDict([('svm_rbf',10), ('svm_linear',10), ('svm_poly',10), ('decisionTree',10),  \n",
    "               ('MLPClassifier',10), ('RandomForestClassifier',10)])\n",
    "bestModels = OrderedDict([('svm_rbf',10), ('svm_linear',10), ('svm_poly',10), ('decisionTree',10),  \n",
    "               ('MLPClassifier',10), ('RandomForestClassifier',10)])\n",
    "\n",
    "for model in trials:\n",
    "    model_type = model['model_params']['type']\n",
    "    if model_type == 'svm':\n",
    "        model_type = model_type + '_' + model['model_params']['params']['kernel']\n",
    "    model_result = model['error']\n",
    "    if model_type in bestResults:\n",
    "        if model_result < bestResults[model_type]:\n",
    "            bestResults[model_type] = model_result\n",
    "            bestModels[model_type] = model['model_params']['params']\n",
    "    else:\n",
    "        bestResults[model_type] = model_result\n",
    "\n",
    "# 5 --------------------\n",
    "with open('trials/run_hyperopt_all_5.json') as data_file:\n",
    "    trials = json.load(data_file)\n",
    "\n",
    "# trials = byteify(trials)\n",
    "\n",
    "bestResults_5 = OrderedDict([('svm_rbf',10), ('svm_linear',10), ('svm_poly',10), ('decisionTree',10),  \n",
    "               ('MLPClassifier',10), ('RandomForestClassifier',10)])\n",
    "bestModels_5 = OrderedDict([('svm_rbf',10), ('svm_linear',10), ('svm_poly',10), ('decisionTree',10),  \n",
    "               ('MLPClassifier',10), ('RandomForestClassifier',10)])\n",
    "\n",
    "for model in trials:\n",
    "    model_type = model['model_params']['type']\n",
    "    if model_type == 'svm':\n",
    "        model_type = model_type + '_' + model['model_params']['params']['kernel']\n",
    "    model_result = model['error']\n",
    "    if model_type in bestResults_5:\n",
    "        if model_result < bestResults_5[model_type]:\n",
    "            bestResults_5[model_type] = model_result\n",
    "            bestModels_5[model_type] = model['model_params']['params']\n",
    "    else:\n",
    "        bestResults_5[model_type] = model_result\n",
    "        \n",
    "# --------------------\n",
    "dataLists = np.zeros((2,6))\n",
    "\n",
    "i = 0\n",
    "for key, value in bestResults_5.items():\n",
    "    dataLists[0, i] = (1 - value)*100\n",
    "    i += 1\n",
    "dataLists[1, :] = (1-np.load('testing_scores_5.npy'))*100\n",
    "    \n",
    "\n",
    "modelsNames = ['SVM rbf', 'SVM linear', 'SVM poly', 'Decision\\n Tree', 'Neural\\n Networks', 'Random\\n Forest']\n",
    "# ax = plot_bar(dataLists, xlabels=modelsNames, ylabel='Testing Accuracy (%)', \n",
    "#          legendLabels=['5 gestures validation', '5 gestures testing', \n",
    "#                        '10 gestures validation', '10 gestures testing',], title=\"Best Models Accuracy\")\n",
    "\n",
    "fig = plt.figure(5)\n",
    "ax = fig.add_subplot(211)\n",
    "# fig.subplots_adjust(bottom=0.25)\n",
    "\n",
    "plot_bar(dataLists, xlabels=modelsNames, ylabel='Accuracy (%)', showLegend=False,\n",
    "         legendLabels=['validation', 'testing'], title=\"5 gesture\", ax=ax)\n",
    "\n",
    "\n",
    "i = 0\n",
    "for key, value in bestResults.items():\n",
    "    dataLists[0, i] = (1 - value)*100\n",
    "    i += 1\n",
    "dataLists[1, :] = (1-np.load('testing_scores_10.npy'))*100\n",
    "\n",
    "ax = fig.add_subplot(212)\n",
    "plot_bar(dataLists, xlabels=modelsNames, ylabel='Accuracy (%)', showLegend=False,\n",
    "         legendLabels=['validation', 'testing'], title=\"10 gesture\", ax=ax)\n",
    "\n",
    "h, l = ax.get_legend_handles_labels()\n",
    "plt.figlegend(h, l, loc='lower center',  ncol=3, bbox_to_anchor=(0.48, -0.02))\n",
    "\n",
    "# Save output\n",
    "plt.savefig('allModels_comparison.eps', format='eps', bbox_inches='tight',dpi=300)\n"
   ]
  },
  {
   "cell_type": "markdown",
   "metadata": {},
   "source": [
    "# SVM\n",
    "---"
   ]
  },
  {
   "cell_type": "code",
   "execution_count": 9,
   "metadata": {
    "collapsed": false
   },
   "outputs": [],
   "source": [
    "# SVM (linea, poly, rbf)\n",
    "svm5 = getResultDataFrame('run_hyperopt_svm_5.json')\n",
    "# svm5.query(\"kernel == 'poly'\").sort_values(by='error')"
   ]
  },
  {
   "cell_type": "code",
   "execution_count": 7,
   "metadata": {
    "collapsed": false
   },
   "outputs": [
    {
     "ename": "NameError",
     "evalue": "name 'svm5' is not defined",
     "output_type": "error",
     "traceback": [
      "\u001b[1;31m---------------------------------------------------------------------------\u001b[0m",
      "\u001b[1;31mNameError\u001b[0m                                 Traceback (most recent call last)",
      "\u001b[1;32m<ipython-input-7-9e5de69d1265>\u001b[0m in \u001b[0;36m<module>\u001b[1;34m()\u001b[0m\n\u001b[1;32m----> 1\u001b[1;33m \u001b[0mdata\u001b[0m \u001b[1;33m=\u001b[0m \u001b[0msvm5\u001b[0m\u001b[1;33m.\u001b[0m\u001b[0mcopy\u001b[0m\u001b[1;33m(\u001b[0m\u001b[1;33m)\u001b[0m\u001b[1;33m\u001b[0m\u001b[0m\n\u001b[0m\u001b[0;32m      2\u001b[0m \u001b[1;33m\u001b[0m\u001b[0m\n\u001b[0;32m      3\u001b[0m \u001b[0mlabels\u001b[0m \u001b[1;33m=\u001b[0m \u001b[1;33m[\u001b[0m\u001b[1;34m'linear'\u001b[0m\u001b[1;33m,\u001b[0m \u001b[1;34m'ploy'\u001b[0m\u001b[1;33m,\u001b[0m \u001b[1;34m'rbf'\u001b[0m\u001b[1;33m]\u001b[0m\u001b[1;33m\u001b[0m\u001b[0m\n\u001b[0;32m      4\u001b[0m \u001b[1;33m\u001b[0m\u001b[0m\n\u001b[0;32m      5\u001b[0m \u001b[1;33m\u001b[0m\u001b[0m\n",
      "\u001b[1;31mNameError\u001b[0m: name 'svm5' is not defined"
     ]
    }
   ],
   "source": [
    "data = svm5.copy()\n",
    "\n",
    "labels = ['linear', 'ploy', 'rbf']\n",
    "\n",
    "\n",
    "fig = plt.figure(4, figsize=(12, 5))\n",
    "fig.subplots_adjust(bottom=0.25)\n",
    "\n",
    "\n",
    "dataList = []\n",
    "data1= data.query(\"kernel == 'linear'\").copy()\n",
    "dataList.append(data1)\n",
    "\n",
    "data1= data.query(\"kernel == 'poly' & degree == 3\").copy()\n",
    "dataList.append(data1)\n",
    "\n",
    "data1= data.query(\"kernel == 'rbf'\").copy()\n",
    "dataList.append(data1)\n",
    "\n",
    "# C subplot\n",
    "ax = fig.add_subplot(121)\n",
    "ax.set_title(\"SVM\")\n",
    "for i,g in enumerate(dataList):\n",
    "#     print(g.ix[:, 1:])\n",
    "    g.sort_values(by='C', inplace=True)\n",
    "    g.plot(x='C', y='error', marker='*', label=labels[i], ax=ax, legend=True, logx=True)\n",
    "    ax.set_ylabel(\"Error\")\n",
    "    ax.set_xlim([1,200])\n",
    "\n",
    "# Save output\n",
    "plt.savefig('svm5_C_gamma_10.eps', format='eps', bbox_inches='tight', dpi=300)\n"
   ]
  },
  {
   "cell_type": "code",
   "execution_count": 11,
   "metadata": {
    "collapsed": false
   },
   "outputs": [
    {
     "data": {
      "text/html": [
       "<div>\n",
       "<table border=\"1\" class=\"dataframe\">\n",
       "  <thead>\n",
       "    <tr style=\"text-align: right;\">\n",
       "      <th></th>\n",
       "      <th>C</th>\n",
       "      <th>degree</th>\n",
       "      <th>gamma</th>\n",
       "      <th>kernel</th>\n",
       "      <th>type</th>\n",
       "      <th>error</th>\n",
       "    </tr>\n",
       "  </thead>\n",
       "  <tbody>\n",
       "    <tr>\n",
       "      <th>247</th>\n",
       "      <td>0.0001</td>\n",
       "      <td>1</td>\n",
       "      <td>6.551286e+00</td>\n",
       "      <td>rbf</td>\n",
       "      <td>svm</td>\n",
       "      <td>0.802667</td>\n",
       "    </tr>\n",
       "    <tr>\n",
       "      <th>138</th>\n",
       "      <td>0.0001</td>\n",
       "      <td>1</td>\n",
       "      <td>1.389495e+02</td>\n",
       "      <td>rbf</td>\n",
       "      <td>svm</td>\n",
       "      <td>0.814667</td>\n",
       "    </tr>\n",
       "    <tr>\n",
       "      <th>198</th>\n",
       "      <td>0.0001</td>\n",
       "      <td>1</td>\n",
       "      <td>6.250552e-09</td>\n",
       "      <td>rbf</td>\n",
       "      <td>svm</td>\n",
       "      <td>0.810667</td>\n",
       "    </tr>\n",
       "    <tr>\n",
       "      <th>28</th>\n",
       "      <td>0.0001</td>\n",
       "      <td>1</td>\n",
       "      <td>3.088844e-01</td>\n",
       "      <td>rbf</td>\n",
       "      <td>svm</td>\n",
       "      <td>0.808000</td>\n",
       "    </tr>\n",
       "    <tr>\n",
       "      <th>80</th>\n",
       "      <td>0.0001</td>\n",
       "      <td>1</td>\n",
       "      <td>2.682696e-02</td>\n",
       "      <td>rbf</td>\n",
       "      <td>svm</td>\n",
       "      <td>0.817333</td>\n",
       "    </tr>\n",
       "  </tbody>\n",
       "</table>\n",
       "</div>"
      ],
      "text/plain": [
       "          C  degree         gamma kernel type     error\n",
       "247  0.0001       1  6.551286e+00    rbf  svm  0.802667\n",
       "138  0.0001       1  1.389495e+02    rbf  svm  0.814667\n",
       "198  0.0001       1  6.250552e-09    rbf  svm  0.810667\n",
       "28   0.0001       1  3.088844e-01    rbf  svm  0.808000\n",
       "80   0.0001       1  2.682696e-02    rbf  svm  0.817333"
      ]
     },
     "execution_count": 11,
     "metadata": {},
     "output_type": "execute_result"
    }
   ],
   "source": [
    "svm5 = getResultDataFrame('run_hyperopt_svm_rbf_5.json').sort_values(by='C')\n",
    "svm5.head()"
   ]
  },
  {
   "cell_type": "code",
   "execution_count": 12,
   "metadata": {
    "collapsed": false
   },
   "outputs": [
    {
     "data": {
      "image/png": "[encoded data removed]",
      "text/plain": [
       "<matplotlib.figure.Figure at 0x7fbe307bfed0>"
      ]
     },
     "metadata": {},
     "output_type": "display_data"
    }
   ],
   "source": [
    "fig = plt.figure(2)\n",
    "ax = fig.add_subplot(211)\n",
    "ax.set_title(\"SVM rbf (5 gestures)\")\n",
    "svm5.plot(x='C', y='error', logx=True, ax=ax)\n",
    "ax = fig.add_subplot(212)\n",
    "svm5.sort_values(by='gamma').plot(x='gamma', y='error', logx=True, ax=ax)\n",
    "ax.set_ylim([0,1])\n",
    "plt.savefig('svm_C_gamma_5.eps', format='eps', bbox_inches='tight', dpi=300)\n"
   ]
  },
  {
   "cell_type": "code",
   "execution_count": 13,
   "metadata": {
    "collapsed": false,
    "scrolled": false
   },
   "outputs": [
    {
     "data": {
      "image/png": "[encoded data removed]",
      "text/plain": [
       "<matplotlib.figure.Figure at 0x7fbe3072c910>"
      ]
     },
     "metadata": {},
     "output_type": "display_data"
    }
   ],
   "source": [
    "data = svm5.copy()\n",
    "\n",
    "fig = plt.figure(4)\n",
    "ax = fig.add_subplot(111)\n",
    "\n",
    "ax.set_title(\"SVM RBF\")\n",
    "data.plot(x='C', y='gamma', marker='s', legend=True, ax=ax, logy=True,\n",
    "              logx=True, c='error', kind='scatter', cmap=plt.cm.coolwarm)\n",
    "\n",
    "# Save output\n",
    "plt.savefig('svm_5_C_gamma_heat.eps', format='eps', bbox_inches='tight', dpi=300)"
   ]
  },
  {
   "cell_type": "code",
   "execution_count": 14,
   "metadata": {
    "collapsed": false
   },
   "outputs": [
    {
     "data": {
      "text/plain": [
       "(300, 6)"
      ]
     },
     "execution_count": 14,
     "metadata": {},
     "output_type": "execute_result"
    }
   ],
   "source": [
    "data.shape"
   ]
  },
  {
   "cell_type": "markdown",
   "metadata": {
    "collapsed": true
   },
   "source": [
    "# Decision Tree\n",
    "--------------"
   ]
  },
  {
   "cell_type": "code",
   "execution_count": 15,
   "metadata": {
    "collapsed": false
   },
   "outputs": [
    {
     "data": {
      "text/html": [
       "<div>\n",
       "<table border=\"1\" class=\"dataframe\">\n",
       "  <thead>\n",
       "    <tr style=\"text-align: right;\">\n",
       "      <th></th>\n",
       "      <th>max_features</th>\n",
       "      <th>splitter</th>\n",
       "      <th>max_depth</th>\n",
       "      <th>type</th>\n",
       "      <th>error</th>\n",
       "    </tr>\n",
       "  </thead>\n",
       "  <tbody>\n",
       "    <tr>\n",
       "      <th>0</th>\n",
       "      <td>auto</td>\n",
       "      <td>best</td>\n",
       "      <td>15</td>\n",
       "      <td>decisionTree</td>\n",
       "      <td>0.429333</td>\n",
       "    </tr>\n",
       "    <tr>\n",
       "      <th>1</th>\n",
       "      <td>auto</td>\n",
       "      <td>best</td>\n",
       "      <td>16</td>\n",
       "      <td>decisionTree</td>\n",
       "      <td>0.426667</td>\n",
       "    </tr>\n",
       "    <tr>\n",
       "      <th>2</th>\n",
       "      <td>auto</td>\n",
       "      <td>best</td>\n",
       "      <td>4</td>\n",
       "      <td>decisionTree</td>\n",
       "      <td>0.546667</td>\n",
       "    </tr>\n",
       "    <tr>\n",
       "      <th>3</th>\n",
       "      <td>auto</td>\n",
       "      <td>best</td>\n",
       "      <td>8</td>\n",
       "      <td>decisionTree</td>\n",
       "      <td>0.410667</td>\n",
       "    </tr>\n",
       "    <tr>\n",
       "      <th>4</th>\n",
       "      <td>auto</td>\n",
       "      <td>best</td>\n",
       "      <td>11</td>\n",
       "      <td>decisionTree</td>\n",
       "      <td>0.445333</td>\n",
       "    </tr>\n",
       "  </tbody>\n",
       "</table>\n",
       "</div>"
      ],
      "text/plain": [
       "  max_features splitter  max_depth          type     error\n",
       "0         auto     best         15  decisionTree  0.429333\n",
       "1         auto     best         16  decisionTree  0.426667\n",
       "2         auto     best          4  decisionTree  0.546667\n",
       "3         auto     best          8  decisionTree  0.410667\n",
       "4         auto     best         11  decisionTree  0.445333"
      ]
     },
     "execution_count": 15,
     "metadata": {},
     "output_type": "execute_result"
    }
   ],
   "source": [
    "files = ['hyperopt_DT_best_5.json', 'hyperopt_DT_random_5.json', 'hyperopt_DT_best_10.json', 'hyperopt_DT_random_10.json']\n",
    "dt = getResultDataFrame(files[0])\n",
    "dt.head()"
   ]
  },
  {
   "cell_type": "code",
   "execution_count": 35,
   "metadata": {
    "collapsed": false
   },
   "outputs": [
    {
     "data": {
      "image/png": "[encoded data removed]",
      "text/plain": [
       "<matplotlib.figure.Figure at 0x7fbe30315c50>"
      ]
     },
     "metadata": {},
     "output_type": "display_data"
    }
   ],
   "source": [
    "\n",
    "labels = ['best (5 getures)', 'random (5 gestures)',\n",
    "          'best (10 getures)', 'random (10 gestures)'] # splitter\n",
    "\n",
    "markers = ['.', 'x','.', 'x'] # splitter\n",
    "\n",
    "fig = plt.figure(4)\n",
    "fig.subplots_adjust(bottom=0.25)\n",
    "\n",
    "dataList = []\n",
    "for f in files:\n",
    "    data1= getResultDataFrame(f) # auto 5\n",
    "    dataList.append(data1)\n",
    "\n",
    "color = plt.rcParams['axes.color_cycle']\n",
    "# max_depth plot\n",
    "ax = fig.add_subplot(111)\n",
    "ax.set_title(\"Decision tree split\")\n",
    "for i,g in enumerate(dataList):    \n",
    "    g.sort_values(by='max_depth', inplace=True)\n",
    "    g2 = g.groupby(by='max_depth').mean()\n",
    "    g2.reset_index(inplace=True)\n",
    "    g2.plot(x='max_depth', y='error', label=labels[i], ax=ax, legend=True, color=color[i], marker='.')\n",
    "    ax.set_ylabel(\"Error\")\n",
    "    ax.set_xlim([1,30])\n",
    "    ax.set_ylim([0.2,1])\n",
    "\n",
    "# Save output\n",
    "# plt.savefig('DT_max_depth_split.png',bbox_inches='tight', dpi=300)\n",
    "plt.savefig('DT_max_depth_split.eps', format='eps', bbox_inches='tight', dpi=300)\n"
   ]
  },
  {
   "cell_type": "code",
   "execution_count": 24,
   "metadata": {
    "collapsed": false
   },
   "outputs": [
    {
     "data": {
      "text/html": [
       "<div>\n",
       "<table border=\"1\" class=\"dataframe\">\n",
       "  <thead>\n",
       "    <tr style=\"text-align: right;\">\n",
       "      <th></th>\n",
       "      <th>max_features</th>\n",
       "      <th>splitter</th>\n",
       "      <th>max_depth</th>\n",
       "      <th>type</th>\n",
       "      <th>error</th>\n",
       "    </tr>\n",
       "  </thead>\n",
       "  <tbody>\n",
       "    <tr>\n",
       "      <th>96</th>\n",
       "      <td>auto</td>\n",
       "      <td>best</td>\n",
       "      <td>2</td>\n",
       "      <td>decisionTree</td>\n",
       "      <td>0.670667</td>\n",
       "    </tr>\n",
       "    <tr>\n",
       "      <th>200</th>\n",
       "      <td>auto</td>\n",
       "      <td>best</td>\n",
       "      <td>2</td>\n",
       "      <td>decisionTree</td>\n",
       "      <td>0.690667</td>\n",
       "    </tr>\n",
       "    <tr>\n",
       "      <th>266</th>\n",
       "      <td>auto</td>\n",
       "      <td>best</td>\n",
       "      <td>2</td>\n",
       "      <td>decisionTree</td>\n",
       "      <td>0.608000</td>\n",
       "    </tr>\n",
       "    <tr>\n",
       "      <th>60</th>\n",
       "      <td>auto</td>\n",
       "      <td>best</td>\n",
       "      <td>2</td>\n",
       "      <td>decisionTree</td>\n",
       "      <td>0.605333</td>\n",
       "    </tr>\n",
       "    <tr>\n",
       "      <th>30</th>\n",
       "      <td>auto</td>\n",
       "      <td>best</td>\n",
       "      <td>2</td>\n",
       "      <td>decisionTree</td>\n",
       "      <td>0.578667</td>\n",
       "    </tr>\n",
       "    <tr>\n",
       "      <th>122</th>\n",
       "      <td>auto</td>\n",
       "      <td>best</td>\n",
       "      <td>2</td>\n",
       "      <td>decisionTree</td>\n",
       "      <td>0.617333</td>\n",
       "    </tr>\n",
       "    <tr>\n",
       "      <th>161</th>\n",
       "      <td>auto</td>\n",
       "      <td>best</td>\n",
       "      <td>2</td>\n",
       "      <td>decisionTree</td>\n",
       "      <td>0.669333</td>\n",
       "    </tr>\n",
       "    <tr>\n",
       "      <th>234</th>\n",
       "      <td>auto</td>\n",
       "      <td>best</td>\n",
       "      <td>2</td>\n",
       "      <td>decisionTree</td>\n",
       "      <td>0.730667</td>\n",
       "    </tr>\n",
       "  </tbody>\n",
       "</table>\n",
       "</div>"
      ],
      "text/plain": [
       "    max_features splitter  max_depth          type     error\n",
       "96          auto     best          2  decisionTree  0.670667\n",
       "200         auto     best          2  decisionTree  0.690667\n",
       "266         auto     best          2  decisionTree  0.608000\n",
       "60          auto     best          2  decisionTree  0.605333\n",
       "30          auto     best          2  decisionTree  0.578667\n",
       "122         auto     best          2  decisionTree  0.617333\n",
       "161         auto     best          2  decisionTree  0.669333\n",
       "234         auto     best          2  decisionTree  0.730667"
      ]
     },
     "execution_count": 24,
     "metadata": {},
     "output_type": "execute_result"
    }
   ],
   "source": [
    "dataList[0].query('max_depth == 2')"
   ]
  },
  {
   "cell_type": "markdown",
   "metadata": {},
   "source": [
    "# Random Forest\n",
    "-----------"
   ]
  },
  {
   "cell_type": "code",
   "execution_count": 6,
   "metadata": {
    "collapsed": false
   },
   "outputs": [
    {
     "ename": "NameError",
     "evalue": "name 'getResultDataFrame' is not defined",
     "output_type": "error",
     "traceback": [
      "\u001b[1;31m---------------------------------------------------------------------------\u001b[0m",
      "\u001b[1;31mNameError\u001b[0m                                 Traceback (most recent call last)",
      "\u001b[1;32m<ipython-input-6-d03e508ed011>\u001b[0m in \u001b[0;36m<module>\u001b[1;34m()\u001b[0m\n\u001b[0;32m      4\u001b[0m \u001b[1;33m\u001b[0m\u001b[0m\n\u001b[0;32m      5\u001b[0m \u001b[1;31m#  n_estimators plot\u001b[0m\u001b[1;33m\u001b[0m\u001b[1;33m\u001b[0m\u001b[0m\n\u001b[1;32m----> 6\u001b[1;33m \u001b[0mdata1\u001b[0m\u001b[1;33m=\u001b[0m \u001b[0mgetResultDataFrame\u001b[0m\u001b[1;33m(\u001b[0m\u001b[1;34m'run_hyperopt_randomForestClassifier_5.json'\u001b[0m\u001b[1;33m)\u001b[0m\u001b[1;33m\u001b[0m\u001b[0m\n\u001b[0m\u001b[0;32m      7\u001b[0m \u001b[0max\u001b[0m \u001b[1;33m=\u001b[0m \u001b[0mfig\u001b[0m\u001b[1;33m.\u001b[0m\u001b[0madd_subplot\u001b[0m\u001b[1;33m(\u001b[0m\u001b[1;36m211\u001b[0m\u001b[1;33m)\u001b[0m\u001b[1;33m\u001b[0m\u001b[0m\n\u001b[0;32m      8\u001b[0m \u001b[0max\u001b[0m\u001b[1;33m.\u001b[0m\u001b[0mset_title\u001b[0m\u001b[1;33m(\u001b[0m\u001b[1;34m\"Random Forest (5 gesture data set)\"\u001b[0m\u001b[1;33m)\u001b[0m\u001b[1;33m\u001b[0m\u001b[0m\n",
      "\u001b[1;31mNameError\u001b[0m: name 'getResultDataFrame' is not defined"
     ]
    },
    {
     "data": {
      "text/plain": [
       "<matplotlib.figure.Figure at 0x7f8cf8d41450>"
      ]
     },
     "metadata": {},
     "output_type": "display_data"
    }
   ],
   "source": [
    "\n",
    "fig = plt.figure(4)\n",
    "fig.subplots_adjust(bottom=0.25)\n",
    "\n",
    "#  n_estimators plot\n",
    "data1= getResultDataFrame('run_hyperopt_randomForestClassifier_5.json') \n",
    "ax = fig.add_subplot(211)\n",
    "ax.set_title(\"Random Forest (5 gesture data set)\")\n",
    "data1.sort_values(by='max_depth', inplace=True)\n",
    "\n",
    "groups = data1.groupby('n_estimators')\n",
    "for i, depth in groups:\n",
    "#     depth = depth.groupby(by='max_depth').mean().reset_index()\n",
    "    depth.plot(x='max_depth', y='error', label='# estimators='+str(i), ax=ax, legend=False)\n",
    "    ax.set_ylabel(\"Error\")\n",
    "    ax.set_xlim([4,40])\n",
    "    ax.set_ylim([0,.35])\n",
    "    ax.set_xlabel('')\n",
    "    \n",
    "#  n_estimators plot\n",
    "data1= getResultDataFrame('trials/run_hyperopt_randomForestClassifier_10.json') \n",
    "ax = fig.add_subplot(212)\n",
    "ax.set_title(\"Random Forest (10 gesture data set)\")\n",
    "data1.sort_values(by='max_depth', inplace=True)\n",
    "\n",
    "groups = data1.groupby('n_estimators')\n",
    "for i, depth in groups:\n",
    "#     depth = depth.groupby(by='max_depth').mean().reset_index()\n",
    "    depth.plot(x='max_depth', y='error', label='# estimators='+\"%d\"%i, ax=ax, legend=False)\n",
    "    ax.set_ylabel(\"Error\")\n",
    "    ax.set_xlim([4,40])\n",
    "    ax.set_ylim([0.1,.55])\n",
    "\n",
    "h, l = ax.get_legend_handles_labels()\n",
    "plt.figlegend(h, l, loc='lower center',  ncol=3, bbox_to_anchor=(0.48, 0))\n",
    "\n",
    "plt.savefig('randomForest_estimators.eps', format='eps', bbox_inches='tight', dpi=300)\n"
   ]
  },
  {
   "cell_type": "markdown",
   "metadata": {
    "collapsed": true
   },
   "source": [
    "# Confusion Matrix"
   ]
  },
  {
   "cell_type": "code",
   "execution_count": 49,
   "metadata": {
    "collapsed": false
   },
   "outputs": [
    {
     "name": "stdout",
     "output_type": "stream",
     "text": [
      "Automatically created module for IPython interactive environment\n",
      "Confusion matrix, without normalization\n",
      "[[91  1  1  0  0  0  0  1  2  0]\n",
      " [ 0 94  0  0  0  0  0  1  0  0]\n",
      " [ 0  0 79  0  0  0  1  1  2  0]\n",
      " [ 0  1  0 98  1  0  1  0  0  0]\n",
      " [ 0  0  0  0 85  0  0  0  0  0]\n",
      " [ 0  0  0  0  0 95  0  0  0  0]\n",
      " [ 0  1  0  0  0  0 81  3  1  0]\n",
      " [ 0  3  0  0  0  0  1 81  2  0]\n",
      " [ 1  0  1  0  0  0  0  0 83  0]\n",
      " [ 0  0  0  0  0  0  0  0  0 87]]\n",
      "Normalized confusion matrix\n",
      "[[ 0.95  0.01  0.01  0.    0.    0.    0.    0.01  0.02  0.  ]\n",
      " [ 0.    0.99  0.    0.    0.    0.    0.    0.01  0.    0.  ]\n",
      " [ 0.    0.    0.95  0.    0.    0.    0.01  0.01  0.02  0.  ]\n",
      " [ 0.    0.01  0.    0.97  0.01  0.    0.01  0.    0.    0.  ]\n",
      " [ 0.    0.    0.    0.    1.    0.    0.    0.    0.    0.  ]\n",
      " [ 0.    0.    0.    0.    0.    1.    0.    0.    0.    0.  ]\n",
      " [ 0.    0.01  0.    0.    0.    0.    0.94  0.03  0.01  0.  ]\n",
      " [ 0.    0.03  0.    0.    0.    0.    0.01  0.93  0.02  0.  ]\n",
      " [ 0.01  0.    0.01  0.    0.    0.    0.    0.    0.98  0.  ]\n",
      " [ 0.    0.    0.    0.    0.    0.    0.    0.    0.    1.  ]]\n"
     ]
    },
    {
     "data": {
      "image/png": "[encoded data removed]",
      "text/plain": [
       "<matplotlib.figure.Figure at 0x7fbe295b0cd0>"
      ]
     },
     "metadata": {},
     "output_type": "display_data"
    },
    {
     "data": {
      "image/png": "[encoded data removed]",
      "text/plain": [
       "<matplotlib.figure.Figure at 0x7fbe30614890>"
      ]
     },
     "metadata": {},
     "output_type": "display_data"
    }
   ],
   "source": [
    "print(__doc__)\n",
    "\n",
    "import numpy as np\n",
    "import matplotlib.pyplot as plt\n",
    "\n",
    "from sklearn import svm, datasets\n",
    "from sklearn.cross_validation import train_test_split\n",
    "from sklearn.metrics import confusion_matrix\n",
    "\n",
    "def plot_confusion_matrix(cm, target_names=None, title='Confusion matrix', cmap=plt.cm.Blues):\n",
    "    plt.imshow(cm, interpolation='nearest', cmap=cmap)\n",
    "    plt.title(title)\n",
    "    plt.colorbar()\n",
    "    tick_marks = np.arange(len(target_names))\n",
    "    plt.xticks(tick_marks, target_names, rotation=45)\n",
    "    plt.yticks(tick_marks, target_names)\n",
    "    plt.tight_layout()\n",
    "    plt.ylabel('True label')\n",
    "    plt.xlabel('Predicted label')\n",
    "\n",
    "\n",
    "# load confusion matrix\n",
    "data_set = '10'\n",
    "cm = np.load('./confusionMatrix/svm_cm_' + data_set + '.npy')\n",
    "target_names = np.load('./confusionMatrix/svm_names_' + data_set + '.npy')\n",
    "np.set_printoptions(precision=2)\n",
    "print('Confusion matrix, without normalization')\n",
    "print(cm)\n",
    "plt.figure()\n",
    "plot_confusion_matrix(cm, target_names)\n",
    "\n",
    "# Normalize the confusion matrix by row (i.e by the number of samples\n",
    "# in each class)\n",
    "cm_normalized = cm.astype('float') / cm.sum(axis=1)[:, np.newaxis]\n",
    "print('Normalized confusion matrix')\n",
    "print(cm_normalized)\n",
    "plt.figure()\n",
    "plot_confusion_matrix(cm_normalized, target_names, title='Normalized confusion matrix')\n",
    "\n",
    "plt.show()"
   ]
  },
  {
   "cell_type": "code",
   "execution_count": 58,
   "metadata": {
    "collapsed": false
   },
   "outputs": [
    {
     "name": "stdout",
     "output_type": "stream",
     "text": [
      "('X shape: ', (1500, 256))\n",
      "('Y shape: ', (1500,))\n",
      "('X_train shape: ', (1200, 256))\n",
      "('X_test shape: ', (300, 256))\n",
      "('Y_train shape: ', (1200,))\n",
      "('Y_test shape: ', (300,))\n"
     ]
    }
   ],
   "source": [
    "from sklearn.cross_validation import train_test_split\n",
    "\n",
    "dataset_name = '5_gestures_256_words'\n",
    "\n",
    "X = np.load('../data/'+dataset_name+'_data.npy')\n",
    "Y = np.load('../data/'+dataset_name+'_labels.npy')\n",
    "print(\"X shape: \", X.shape)\n",
    "print(\"Y shape: \", Y.shape)\n",
    "\n",
    "X_train, X_test, Y_train, Y_test = train_test_split(X, Y, test_size=0.2)\n",
    "print(\"X_train shape: \", X_train.shape)\n",
    "print(\"X_test shape: \", X_test.shape)\n",
    "\n",
    "print(\"Y_train shape: \", Y_train.shape)\n",
    "print(\"Y_test shape: \", Y_test.shape)\n",
    "\n",
    "np.save('../data/'+dataset_name+'_train_data.npy', X_train)\n",
    "np.save('../data/'+dataset_name+'_test_data.npy', X_test)\n",
    "np.save('../data/'+dataset_name+'_train_labels.npy', Y_train)\n",
    "np.save('../data/'+dataset_name+'_test_labels.npy', Y_test)\n"
   ]
  },
  {
   "cell_type": "code",
   "execution_count": null,
   "metadata": {
    "collapsed": true
   },
   "outputs": [],
   "source": []
  }
 ],
 "metadata": {
  "kernelspec": {
   "display_name": "Python 2",
   "language": "python",
   "name": "python2"
  },
  "language_info": {
   "codemirror_mode": {
    "name": "ipython",
    "version": 2
   },
   "file_extension": ".py",
   "mimetype": "text/x-python",
   "name": "python",
   "nbconvert_exporter": "python",
   "pygments_lexer": "ipython2",
   "version": "2.7.10"
  }
 },
 "nbformat": 4,
 "nbformat_minor": 0
}
